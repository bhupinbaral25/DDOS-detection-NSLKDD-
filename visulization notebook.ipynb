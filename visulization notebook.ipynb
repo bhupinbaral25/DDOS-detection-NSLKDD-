{
 "cells": [
  {
   "cell_type": "markdown",
   "id": "bdebf8a1",
   "metadata": {},
   "source": [
    "# Importing local .py file in notebook"
   ]
  },
  {
   "cell_type": "code",
   "execution_count": 1,
   "id": "7cc8bcc0",
   "metadata": {},
   "outputs": [
    {
     "name": "stdout",
     "output_type": "stream",
     "text": [
      "Traceback (most recent call last):\r\n",
      "  File \"dashboard/__init__.py\", line 1, in <module>\r\n",
      "    from dashboard.modeling import ClassificationModel\r\n",
      "ModuleNotFoundError: No module named 'dashboard'\r\n"
     ]
    }
   ],
   "source": [
    "!python3 dashboard/__init__.py\n",
    "%load_ext autoreload\n",
    "%autoreload 2"
   ]
  },
  {
   "cell_type": "markdown",
   "id": "48311241",
   "metadata": {},
   "source": [
    "# Importing the module"
   ]
  },
  {
   "cell_type": "code",
   "execution_count": 2,
   "id": "499f325e",
   "metadata": {},
   "outputs": [],
   "source": [
    "import yaml\n",
    "import pandas as pd\n",
    "import numpy as np \n",
    "import seaborn as sns"
   ]
  },
  {
   "cell_type": "code",
   "execution_count": 3,
   "id": "b1c4f300",
   "metadata": {},
   "outputs": [],
   "source": [
    "from dashboard import DataInformation"
   ]
  },
  {
   "cell_type": "markdown",
   "id": "c6cc9765",
   "metadata": {},
   "source": [
    "# Reading config.yaml file "
   ]
  },
  {
   "cell_type": "code",
   "execution_count": 4,
   "id": "6db64802",
   "metadata": {},
   "outputs": [],
   "source": [
    "with open(\"config.yaml\", \"r\") as stream:\n",
    "    cl = yaml.safe_load(stream)"
   ]
  },
  {
   "cell_type": "code",
   "execution_count": 5,
   "id": "7920c013",
   "metadata": {},
   "outputs": [],
   "source": [
    "train = cl['train']\n",
    "feature = cl['feature']\n",
    "test = cl['test']\n",
    "test21 = cl['test21']"
   ]
  },
  {
   "cell_type": "code",
   "execution_count": 6,
   "id": "ce47043c",
   "metadata": {},
   "outputs": [
    {
     "data": {
      "text/plain": [
       "'./raw_data/KDDTrain+.txt'"
      ]
     },
     "execution_count": 6,
     "metadata": {},
     "output_type": "execute_result"
    }
   ],
   "source": [
    "train"
   ]
  },
  {
   "cell_type": "markdown",
   "id": "e94144a5",
   "metadata": {},
   "source": [
    "# Reading Dataset using pandas "
   ]
  },
  {
   "cell_type": "markdown",
   "id": "0c6b7b7c",
   "metadata": {},
   "source": [
    "Have you ever wondered how your computer/network is able to avoid being infected with malware and bad traffic inputs from the internet? The reason why it can detect it so well is because there are systems in place to protect your valuable information held in your computer or networks. These systems that detect malicious traffic inputs are called Intrusion Detection Systems (IDS) and are trained on internet traffic record data. The most common data set is the NSL-KDD, and is the benchmark for modern-day internet traffic.\n",
    "\n",
    "This data set is comprised of four sub data sets: KDDTest+, KDDTest-21, KDDTrain+, KDDTrain+_20Percent, although KDDTest-21 and KDDTrain+_20Percent are subsets of the KDDTrain+ and KDDTest+. From now on, KDDTrain+ will be referred to as train and KDDTest+ will be referred to as test. The KDDTest-21 is a subset of test, without the most difficult traffic records (Score of 21), and the KDDTrain+_20Percent is a subset of train, whose record count makes up 20% of the entire train dataset. That being said, the traffic records that exist in the KDDTest-21 and KDDTrain+_20Percent are already in test and train respectively and aren’t new records held out of either dataset.\n",
    "\n",
    "These data sets contain the records of the internet traffic seen by a simple intrusion detection network and are the ghosts of the traffic encountered by a real IDS and just the traces of its existence remains. The data set contains 43 features per record, with 41 of the features referring to the traffic input itself and the last two are labels (whether it is a normal or attack) and Score (the severity of the traffic input itself)."
   ]
  },
  {
   "cell_type": "code",
   "execution_count": 7,
   "id": "3fa27654",
   "metadata": {},
   "outputs": [],
   "source": [
    "train_data=pd.read_csv(train,names=feature)\n",
    "test_data=pd.read_csv(test,names=feature)\n",
    "test_21 = pd.read_csv(test21, names= feature)"
   ]
  },
  {
   "cell_type": "code",
   "execution_count": 8,
   "id": "5174ad56",
   "metadata": {},
   "outputs": [],
   "source": [
    "test_data=pd.read_csv(test,names=feature)"
   ]
  },
  {
   "cell_type": "code",
   "execution_count": 9,
   "id": "ea746c6d",
   "metadata": {},
   "outputs": [],
   "source": [
    "train_info = DataInformation(train_data) ## Creating the object of datainformation class"
   ]
  },
  {
   "cell_type": "code",
   "execution_count": 10,
   "id": "15a58791",
   "metadata": {},
   "outputs": [
    {
     "data": {
      "text/html": [
       "<div>\n",
       "<style scoped>\n",
       "    .dataframe tbody tr th:only-of-type {\n",
       "        vertical-align: middle;\n",
       "    }\n",
       "\n",
       "    .dataframe tbody tr th {\n",
       "        vertical-align: top;\n",
       "    }\n",
       "\n",
       "    .dataframe thead th {\n",
       "        text-align: right;\n",
       "    }\n",
       "</style>\n",
       "<table border=\"1\" class=\"dataframe\">\n",
       "  <thead>\n",
       "    <tr style=\"text-align: right;\">\n",
       "      <th></th>\n",
       "      <th>duration</th>\n",
       "      <th>protocol_type</th>\n",
       "      <th>service</th>\n",
       "      <th>flag</th>\n",
       "      <th>src_bytes</th>\n",
       "      <th>dst_bytes</th>\n",
       "      <th>land</th>\n",
       "      <th>wrong_fragment</th>\n",
       "      <th>urgent</th>\n",
       "      <th>hot</th>\n",
       "      <th>...</th>\n",
       "      <th>dst_host_same_srv_rate</th>\n",
       "      <th>dst_host_diff_srv_rate</th>\n",
       "      <th>dst_host_same_src_port_rate</th>\n",
       "      <th>dst_host_srv_diff_host_rate</th>\n",
       "      <th>dst_host_serror_rate</th>\n",
       "      <th>dst_host_srv_serror_rate</th>\n",
       "      <th>dst_host_rerror_rate</th>\n",
       "      <th>dst_host_srv_rerror_rate</th>\n",
       "      <th>label</th>\n",
       "      <th>difficulty</th>\n",
       "    </tr>\n",
       "  </thead>\n",
       "  <tbody>\n",
       "    <tr>\n",
       "      <th>0</th>\n",
       "      <td>0</td>\n",
       "      <td>tcp</td>\n",
       "      <td>ftp_data</td>\n",
       "      <td>SF</td>\n",
       "      <td>491</td>\n",
       "      <td>0</td>\n",
       "      <td>0</td>\n",
       "      <td>0</td>\n",
       "      <td>0</td>\n",
       "      <td>0</td>\n",
       "      <td>...</td>\n",
       "      <td>0.17</td>\n",
       "      <td>0.03</td>\n",
       "      <td>0.17</td>\n",
       "      <td>0.00</td>\n",
       "      <td>0.00</td>\n",
       "      <td>0.00</td>\n",
       "      <td>0.05</td>\n",
       "      <td>0.00</td>\n",
       "      <td>normal</td>\n",
       "      <td>20</td>\n",
       "    </tr>\n",
       "    <tr>\n",
       "      <th>1</th>\n",
       "      <td>0</td>\n",
       "      <td>udp</td>\n",
       "      <td>other</td>\n",
       "      <td>SF</td>\n",
       "      <td>146</td>\n",
       "      <td>0</td>\n",
       "      <td>0</td>\n",
       "      <td>0</td>\n",
       "      <td>0</td>\n",
       "      <td>0</td>\n",
       "      <td>...</td>\n",
       "      <td>0.00</td>\n",
       "      <td>0.60</td>\n",
       "      <td>0.88</td>\n",
       "      <td>0.00</td>\n",
       "      <td>0.00</td>\n",
       "      <td>0.00</td>\n",
       "      <td>0.00</td>\n",
       "      <td>0.00</td>\n",
       "      <td>normal</td>\n",
       "      <td>15</td>\n",
       "    </tr>\n",
       "    <tr>\n",
       "      <th>2</th>\n",
       "      <td>0</td>\n",
       "      <td>tcp</td>\n",
       "      <td>private</td>\n",
       "      <td>S0</td>\n",
       "      <td>0</td>\n",
       "      <td>0</td>\n",
       "      <td>0</td>\n",
       "      <td>0</td>\n",
       "      <td>0</td>\n",
       "      <td>0</td>\n",
       "      <td>...</td>\n",
       "      <td>0.10</td>\n",
       "      <td>0.05</td>\n",
       "      <td>0.00</td>\n",
       "      <td>0.00</td>\n",
       "      <td>1.00</td>\n",
       "      <td>1.00</td>\n",
       "      <td>0.00</td>\n",
       "      <td>0.00</td>\n",
       "      <td>neptune</td>\n",
       "      <td>19</td>\n",
       "    </tr>\n",
       "    <tr>\n",
       "      <th>3</th>\n",
       "      <td>0</td>\n",
       "      <td>tcp</td>\n",
       "      <td>http</td>\n",
       "      <td>SF</td>\n",
       "      <td>232</td>\n",
       "      <td>8153</td>\n",
       "      <td>0</td>\n",
       "      <td>0</td>\n",
       "      <td>0</td>\n",
       "      <td>0</td>\n",
       "      <td>...</td>\n",
       "      <td>1.00</td>\n",
       "      <td>0.00</td>\n",
       "      <td>0.03</td>\n",
       "      <td>0.04</td>\n",
       "      <td>0.03</td>\n",
       "      <td>0.01</td>\n",
       "      <td>0.00</td>\n",
       "      <td>0.01</td>\n",
       "      <td>normal</td>\n",
       "      <td>21</td>\n",
       "    </tr>\n",
       "    <tr>\n",
       "      <th>4</th>\n",
       "      <td>0</td>\n",
       "      <td>tcp</td>\n",
       "      <td>http</td>\n",
       "      <td>SF</td>\n",
       "      <td>199</td>\n",
       "      <td>420</td>\n",
       "      <td>0</td>\n",
       "      <td>0</td>\n",
       "      <td>0</td>\n",
       "      <td>0</td>\n",
       "      <td>...</td>\n",
       "      <td>1.00</td>\n",
       "      <td>0.00</td>\n",
       "      <td>0.00</td>\n",
       "      <td>0.00</td>\n",
       "      <td>0.00</td>\n",
       "      <td>0.00</td>\n",
       "      <td>0.00</td>\n",
       "      <td>0.00</td>\n",
       "      <td>normal</td>\n",
       "      <td>21</td>\n",
       "    </tr>\n",
       "    <tr>\n",
       "      <th>5</th>\n",
       "      <td>0</td>\n",
       "      <td>tcp</td>\n",
       "      <td>private</td>\n",
       "      <td>REJ</td>\n",
       "      <td>0</td>\n",
       "      <td>0</td>\n",
       "      <td>0</td>\n",
       "      <td>0</td>\n",
       "      <td>0</td>\n",
       "      <td>0</td>\n",
       "      <td>...</td>\n",
       "      <td>0.07</td>\n",
       "      <td>0.07</td>\n",
       "      <td>0.00</td>\n",
       "      <td>0.00</td>\n",
       "      <td>0.00</td>\n",
       "      <td>0.00</td>\n",
       "      <td>1.00</td>\n",
       "      <td>1.00</td>\n",
       "      <td>neptune</td>\n",
       "      <td>21</td>\n",
       "    </tr>\n",
       "    <tr>\n",
       "      <th>6</th>\n",
       "      <td>0</td>\n",
       "      <td>tcp</td>\n",
       "      <td>private</td>\n",
       "      <td>S0</td>\n",
       "      <td>0</td>\n",
       "      <td>0</td>\n",
       "      <td>0</td>\n",
       "      <td>0</td>\n",
       "      <td>0</td>\n",
       "      <td>0</td>\n",
       "      <td>...</td>\n",
       "      <td>0.04</td>\n",
       "      <td>0.05</td>\n",
       "      <td>0.00</td>\n",
       "      <td>0.00</td>\n",
       "      <td>1.00</td>\n",
       "      <td>1.00</td>\n",
       "      <td>0.00</td>\n",
       "      <td>0.00</td>\n",
       "      <td>neptune</td>\n",
       "      <td>21</td>\n",
       "    </tr>\n",
       "    <tr>\n",
       "      <th>7</th>\n",
       "      <td>0</td>\n",
       "      <td>tcp</td>\n",
       "      <td>private</td>\n",
       "      <td>S0</td>\n",
       "      <td>0</td>\n",
       "      <td>0</td>\n",
       "      <td>0</td>\n",
       "      <td>0</td>\n",
       "      <td>0</td>\n",
       "      <td>0</td>\n",
       "      <td>...</td>\n",
       "      <td>0.06</td>\n",
       "      <td>0.07</td>\n",
       "      <td>0.00</td>\n",
       "      <td>0.00</td>\n",
       "      <td>1.00</td>\n",
       "      <td>1.00</td>\n",
       "      <td>0.00</td>\n",
       "      <td>0.00</td>\n",
       "      <td>neptune</td>\n",
       "      <td>21</td>\n",
       "    </tr>\n",
       "    <tr>\n",
       "      <th>8</th>\n",
       "      <td>0</td>\n",
       "      <td>tcp</td>\n",
       "      <td>remote_job</td>\n",
       "      <td>S0</td>\n",
       "      <td>0</td>\n",
       "      <td>0</td>\n",
       "      <td>0</td>\n",
       "      <td>0</td>\n",
       "      <td>0</td>\n",
       "      <td>0</td>\n",
       "      <td>...</td>\n",
       "      <td>0.09</td>\n",
       "      <td>0.05</td>\n",
       "      <td>0.00</td>\n",
       "      <td>0.00</td>\n",
       "      <td>1.00</td>\n",
       "      <td>1.00</td>\n",
       "      <td>0.00</td>\n",
       "      <td>0.00</td>\n",
       "      <td>neptune</td>\n",
       "      <td>21</td>\n",
       "    </tr>\n",
       "    <tr>\n",
       "      <th>9</th>\n",
       "      <td>0</td>\n",
       "      <td>tcp</td>\n",
       "      <td>private</td>\n",
       "      <td>S0</td>\n",
       "      <td>0</td>\n",
       "      <td>0</td>\n",
       "      <td>0</td>\n",
       "      <td>0</td>\n",
       "      <td>0</td>\n",
       "      <td>0</td>\n",
       "      <td>...</td>\n",
       "      <td>0.05</td>\n",
       "      <td>0.06</td>\n",
       "      <td>0.00</td>\n",
       "      <td>0.00</td>\n",
       "      <td>1.00</td>\n",
       "      <td>1.00</td>\n",
       "      <td>0.00</td>\n",
       "      <td>0.00</td>\n",
       "      <td>neptune</td>\n",
       "      <td>21</td>\n",
       "    </tr>\n",
       "    <tr>\n",
       "      <th>10</th>\n",
       "      <td>0</td>\n",
       "      <td>tcp</td>\n",
       "      <td>private</td>\n",
       "      <td>REJ</td>\n",
       "      <td>0</td>\n",
       "      <td>0</td>\n",
       "      <td>0</td>\n",
       "      <td>0</td>\n",
       "      <td>0</td>\n",
       "      <td>0</td>\n",
       "      <td>...</td>\n",
       "      <td>0.05</td>\n",
       "      <td>0.07</td>\n",
       "      <td>0.00</td>\n",
       "      <td>0.00</td>\n",
       "      <td>0.00</td>\n",
       "      <td>0.00</td>\n",
       "      <td>1.00</td>\n",
       "      <td>1.00</td>\n",
       "      <td>neptune</td>\n",
       "      <td>21</td>\n",
       "    </tr>\n",
       "    <tr>\n",
       "      <th>11</th>\n",
       "      <td>0</td>\n",
       "      <td>tcp</td>\n",
       "      <td>private</td>\n",
       "      <td>S0</td>\n",
       "      <td>0</td>\n",
       "      <td>0</td>\n",
       "      <td>0</td>\n",
       "      <td>0</td>\n",
       "      <td>0</td>\n",
       "      <td>0</td>\n",
       "      <td>...</td>\n",
       "      <td>0.05</td>\n",
       "      <td>0.07</td>\n",
       "      <td>0.00</td>\n",
       "      <td>0.00</td>\n",
       "      <td>1.00</td>\n",
       "      <td>1.00</td>\n",
       "      <td>0.00</td>\n",
       "      <td>0.00</td>\n",
       "      <td>neptune</td>\n",
       "      <td>21</td>\n",
       "    </tr>\n",
       "  </tbody>\n",
       "</table>\n",
       "<p>12 rows × 43 columns</p>\n",
       "</div>"
      ],
      "text/plain": [
       "    duration protocol_type     service flag  src_bytes  dst_bytes  land  \\\n",
       "0          0           tcp    ftp_data   SF        491          0     0   \n",
       "1          0           udp       other   SF        146          0     0   \n",
       "2          0           tcp     private   S0          0          0     0   \n",
       "3          0           tcp        http   SF        232       8153     0   \n",
       "4          0           tcp        http   SF        199        420     0   \n",
       "5          0           tcp     private  REJ          0          0     0   \n",
       "6          0           tcp     private   S0          0          0     0   \n",
       "7          0           tcp     private   S0          0          0     0   \n",
       "8          0           tcp  remote_job   S0          0          0     0   \n",
       "9          0           tcp     private   S0          0          0     0   \n",
       "10         0           tcp     private  REJ          0          0     0   \n",
       "11         0           tcp     private   S0          0          0     0   \n",
       "\n",
       "    wrong_fragment  urgent  hot  ...  dst_host_same_srv_rate  \\\n",
       "0                0       0    0  ...                    0.17   \n",
       "1                0       0    0  ...                    0.00   \n",
       "2                0       0    0  ...                    0.10   \n",
       "3                0       0    0  ...                    1.00   \n",
       "4                0       0    0  ...                    1.00   \n",
       "5                0       0    0  ...                    0.07   \n",
       "6                0       0    0  ...                    0.04   \n",
       "7                0       0    0  ...                    0.06   \n",
       "8                0       0    0  ...                    0.09   \n",
       "9                0       0    0  ...                    0.05   \n",
       "10               0       0    0  ...                    0.05   \n",
       "11               0       0    0  ...                    0.05   \n",
       "\n",
       "    dst_host_diff_srv_rate  dst_host_same_src_port_rate  \\\n",
       "0                     0.03                         0.17   \n",
       "1                     0.60                         0.88   \n",
       "2                     0.05                         0.00   \n",
       "3                     0.00                         0.03   \n",
       "4                     0.00                         0.00   \n",
       "5                     0.07                         0.00   \n",
       "6                     0.05                         0.00   \n",
       "7                     0.07                         0.00   \n",
       "8                     0.05                         0.00   \n",
       "9                     0.06                         0.00   \n",
       "10                    0.07                         0.00   \n",
       "11                    0.07                         0.00   \n",
       "\n",
       "    dst_host_srv_diff_host_rate  dst_host_serror_rate  \\\n",
       "0                          0.00                  0.00   \n",
       "1                          0.00                  0.00   \n",
       "2                          0.00                  1.00   \n",
       "3                          0.04                  0.03   \n",
       "4                          0.00                  0.00   \n",
       "5                          0.00                  0.00   \n",
       "6                          0.00                  1.00   \n",
       "7                          0.00                  1.00   \n",
       "8                          0.00                  1.00   \n",
       "9                          0.00                  1.00   \n",
       "10                         0.00                  0.00   \n",
       "11                         0.00                  1.00   \n",
       "\n",
       "    dst_host_srv_serror_rate  dst_host_rerror_rate  dst_host_srv_rerror_rate  \\\n",
       "0                       0.00                  0.05                      0.00   \n",
       "1                       0.00                  0.00                      0.00   \n",
       "2                       1.00                  0.00                      0.00   \n",
       "3                       0.01                  0.00                      0.01   \n",
       "4                       0.00                  0.00                      0.00   \n",
       "5                       0.00                  1.00                      1.00   \n",
       "6                       1.00                  0.00                      0.00   \n",
       "7                       1.00                  0.00                      0.00   \n",
       "8                       1.00                  0.00                      0.00   \n",
       "9                       1.00                  0.00                      0.00   \n",
       "10                      0.00                  1.00                      1.00   \n",
       "11                      1.00                  0.00                      0.00   \n",
       "\n",
       "      label  difficulty  \n",
       "0    normal          20  \n",
       "1    normal          15  \n",
       "2   neptune          19  \n",
       "3    normal          21  \n",
       "4    normal          21  \n",
       "5   neptune          21  \n",
       "6   neptune          21  \n",
       "7   neptune          21  \n",
       "8   neptune          21  \n",
       "9   neptune          21  \n",
       "10  neptune          21  \n",
       "11  neptune          21  \n",
       "\n",
       "[12 rows x 43 columns]"
      ]
     },
     "execution_count": 10,
     "metadata": {},
     "output_type": "execute_result"
    }
   ],
   "source": [
    "train_info.get_dataset_head() ## looks of first 12 rows of data"
   ]
  },
  {
   "cell_type": "code",
   "execution_count": 11,
   "id": "8fa864c5",
   "metadata": {},
   "outputs": [
    {
     "name": "stdout",
     "output_type": "stream",
     "text": [
      "<class 'pandas.core.frame.DataFrame'>\n",
      "RangeIndex: 125973 entries, 0 to 125972\n",
      "Data columns (total 43 columns):\n",
      " #   Column                       Non-Null Count   Dtype  \n",
      "---  ------                       --------------   -----  \n",
      " 0   duration                     125973 non-null  int64  \n",
      " 1   protocol_type                125973 non-null  object \n",
      " 2   service                      125973 non-null  object \n",
      " 3   flag                         125973 non-null  object \n",
      " 4   src_bytes                    125973 non-null  int64  \n",
      " 5   dst_bytes                    125973 non-null  int64  \n",
      " 6   land                         125973 non-null  int64  \n",
      " 7   wrong_fragment               125973 non-null  int64  \n",
      " 8   urgent                       125973 non-null  int64  \n",
      " 9   hot                          125973 non-null  int64  \n",
      " 10  num_failed_logins            125973 non-null  int64  \n",
      " 11  logged_in                    125973 non-null  int64  \n",
      " 12  num_compromised              125973 non-null  int64  \n",
      " 13  root_shell                   125973 non-null  int64  \n",
      " 14  su_attempted                 125973 non-null  int64  \n",
      " 15  num_root                     125973 non-null  int64  \n",
      " 16  num_file_creations           125973 non-null  int64  \n",
      " 17  num_shells                   125973 non-null  int64  \n",
      " 18  num_access_files             125973 non-null  int64  \n",
      " 19  num_outbound_cmds            125973 non-null  int64  \n",
      " 20  is_host_login                125973 non-null  int64  \n",
      " 21  is_guest_login               125973 non-null  int64  \n",
      " 22  count                        125973 non-null  int64  \n",
      " 23  srv_count                    125973 non-null  int64  \n",
      " 24  serror_rate                  125973 non-null  float64\n",
      " 25  srv_serror_rate              125973 non-null  float64\n",
      " 26  rerror_rate                  125973 non-null  float64\n",
      " 27  srv_rerror_rate              125973 non-null  float64\n",
      " 28  same_srv_rate                125973 non-null  float64\n",
      " 29  diff_srv_rate                125973 non-null  float64\n",
      " 30  srv_diff_host_rate           125973 non-null  float64\n",
      " 31  dst_host_count               125973 non-null  int64  \n",
      " 32  dst_host_srv_count           125973 non-null  int64  \n",
      " 33  dst_host_same_srv_rate       125973 non-null  float64\n",
      " 34  dst_host_diff_srv_rate       125973 non-null  float64\n",
      " 35  dst_host_same_src_port_rate  125973 non-null  float64\n",
      " 36  dst_host_srv_diff_host_rate  125973 non-null  float64\n",
      " 37  dst_host_serror_rate         125973 non-null  float64\n",
      " 38  dst_host_srv_serror_rate     125973 non-null  float64\n",
      " 39  dst_host_rerror_rate         125973 non-null  float64\n",
      " 40  dst_host_srv_rerror_rate     125973 non-null  float64\n",
      " 41  label                        125973 non-null  object \n",
      " 42  difficulty                   125973 non-null  int64  \n",
      "dtypes: float64(15), int64(24), object(4)\n",
      "memory usage: 41.3+ MB\n"
     ]
    }
   ],
   "source": [
    "train_info.get_info() ## information of all column in dataset"
   ]
  },
  {
   "cell_type": "code",
   "execution_count": 12,
   "id": "efe89b83",
   "metadata": {},
   "outputs": [
    {
     "data": {
      "text/plain": [
       "normal             67343\n",
       "neptune            41214\n",
       "satan               3633\n",
       "ipsweep             3599\n",
       "portsweep           2931\n",
       "smurf               2646\n",
       "nmap                1493\n",
       "back                 956\n",
       "teardrop             892\n",
       "warezclient          890\n",
       "pod                  201\n",
       "guess_passwd          53\n",
       "buffer_overflow       30\n",
       "warezmaster           20\n",
       "land                  18\n",
       "imap                  11\n",
       "rootkit               10\n",
       "loadmodule             9\n",
       "ftp_write              8\n",
       "multihop               7\n",
       "phf                    4\n",
       "perl                   3\n",
       "spy                    2\n",
       "Name: label, dtype: int64"
      ]
     },
     "execution_count": 12,
     "metadata": {},
     "output_type": "execute_result"
    }
   ],
   "source": [
    "train_info.check_data_imbalance() ## count of each label of dataset"
   ]
  },
  {
   "cell_type": "code",
   "execution_count": 13,
   "id": "523e39d9",
   "metadata": {},
   "outputs": [],
   "source": [
    "## Drop the difficulty  colum "
   ]
  },
  {
   "cell_type": "code",
   "execution_count": 14,
   "id": "2f3d8c04",
   "metadata": {},
   "outputs": [],
   "source": [
    "train_data = train_info.drop_column(\"difficulty\")"
   ]
  },
  {
   "cell_type": "code",
   "execution_count": 15,
   "id": "954c4a68",
   "metadata": {},
   "outputs": [],
   "source": [
    "#Data Analysis "
   ]
  },
  {
   "cell_type": "code",
   "execution_count": 16,
   "id": "cec8e73e",
   "metadata": {},
   "outputs": [],
   "source": [
    "from dashboard import Visualization"
   ]
  },
  {
   "cell_type": "code",
   "execution_count": 17,
   "id": "0eb286c7",
   "metadata": {},
   "outputs": [],
   "source": [
    "train_viz = Visualization"
   ]
  },
  {
   "cell_type": "code",
   "execution_count": 18,
   "id": "4381c2af",
   "metadata": {},
   "outputs": [
    {
     "data": {
      "image/png": "[encoded data removed]",
      "text/plain": [
       "<Figure size 576x396 with 1 Axes>"
      ]
     },
     "metadata": {},
     "output_type": "display_data"
    }
   ],
   "source": [
    "train_viz.bar_graph(train_data, \"label\")"
   ]
  },
  {
   "cell_type": "markdown",
   "id": "c2ee3acb",
   "metadata": {},
   "source": [
    "Within the data set exists 4 different classes of attacks:\n",
    "\n",
    "Denial of Service (DoS)\n",
    "Probe\n",
    "User to Root(U2R)\n",
    "Remote to Local (R2L)"
   ]
  },
  {
   "cell_type": "markdown",
   "id": "bd54bfd9",
   "metadata": {},
   "source": [
    "DoS is an attack that tries to shut down traffic flow to and from the target system. The IDS is flooded with an abnormal amount of traffic, which the system can’t handle, and shuts down to protect itself. This prevents normal traffic from visiting a network. An example of this could be an online retailer getting flooded with online orders on a day with a big sale, and because the network can’t handle all the requests, it will shut down preventing paying customers to purchase anything. This is the most common attack in the data set.\n",
    "\n",
    "Probe or surveillance is an attack that tries to get information from a network. The goal here is to act like a thief and steal important information, whether it be personal information about clients or banking information.\n",
    "\n",
    "U2R is an attack that starts off with a normal user account and tries to gain access to the system or network, as a super-user (root). The attacker attempts to exploit the vulnerabilities in a system to gain root privileges/access.\n",
    "\n"
   ]
  },
  {
   "cell_type": "markdown",
   "id": "e425834e",
   "metadata": {},
   "source": [
    "R2L is an attack that tries to gain local access to a remote machine. An attacker does not have local access to the system/network, and tries to “hack” their way into the network.\n",
    "\n",
    "It is noticed from the descriptions above that DoS acts differently from the other three attacks, where DoS attempts to shut down a system to stop traffic flow altogether, whereas the other three attempts to quietly infiltrate the system undetected.\n",
    "\n",
    "In the table below, a breakdown of the different subclasses of each attack that exists in the data set is shown"
   ]
  },
  {
   "cell_type": "markdown",
   "id": "5a4ab10d",
   "metadata": {},
   "source": [
    "![simpleimage](raw_data/detail.png)"
   ]
  },
  {
   "cell_type": "code",
   "execution_count": 19,
   "id": "0423f8f1",
   "metadata": {},
   "outputs": [],
   "source": [
    "from dashboard import change_label"
   ]
  },
  {
   "cell_type": "code",
   "execution_count": 20,
   "id": "b2430135",
   "metadata": {},
   "outputs": [],
   "source": [
    "final_label_list = ['Dos','R2L','Probe','U2R']"
   ]
  },
  {
   "cell_type": "code",
   "execution_count": 21,
   "id": "b0059b9d",
   "metadata": {},
   "outputs": [],
   "source": [
    "for label in final_label_list:\n",
    "    change_label(train_data, cl[label], label)"
   ]
  },
  {
   "cell_type": "code",
   "execution_count": 22,
   "id": "adab402a",
   "metadata": {},
   "outputs": [
    {
     "data": {
      "text/plain": [
       "normal             67343\n",
       "neptune            41214\n",
       "satan               3633\n",
       "ipsweep             3599\n",
       "portsweep           2931\n",
       "smurf               2646\n",
       "nmap                1493\n",
       "back                 956\n",
       "teardrop             892\n",
       "warezclient          890\n",
       "pod                  201\n",
       "guess_passwd          53\n",
       "buffer_overflow       30\n",
       "warezmaster           20\n",
       "land                  18\n",
       "imap                  11\n",
       "rootkit               10\n",
       "loadmodule             9\n",
       "ftp_write              8\n",
       "multihop               7\n",
       "phf                    4\n",
       "perl                   3\n",
       "spy                    2\n",
       "Name: label, dtype: int64"
      ]
     },
     "execution_count": 22,
     "metadata": {},
     "output_type": "execute_result"
    }
   ],
   "source": [
    "train_info.check_data_imbalance() ## count of each label of dataset"
   ]
  },
  {
   "cell_type": "code",
   "execution_count": 23,
   "id": "e7611c24",
   "metadata": {},
   "outputs": [
    {
     "data": {
      "text/plain": [
       "array(['normal', 'Dos', 'R2L', 'Probe', 'U2R'], dtype=object)"
      ]
     },
     "execution_count": 23,
     "metadata": {},
     "output_type": "execute_result"
    }
   ],
   "source": [
    "train_data['label'].unique()"
   ]
  },
  {
   "cell_type": "markdown",
   "id": "2be24a76",
   "metadata": {},
   "source": [
    "Now there are 4 unique type of attract in label column. "
   ]
  },
  {
   "cell_type": "code",
   "execution_count": 24,
   "id": "73f3f923",
   "metadata": {},
   "outputs": [],
   "source": [
    "train_info_lc = DataInformation(train_data)"
   ]
  },
  {
   "cell_type": "code",
   "execution_count": 25,
   "id": "ed557158",
   "metadata": {},
   "outputs": [
    {
     "data": {
      "text/plain": [
       "normal    67343\n",
       "Dos       45927\n",
       "Probe     11656\n",
       "R2L         995\n",
       "U2R          52\n",
       "Name: label, dtype: int64"
      ]
     },
     "execution_count": 25,
     "metadata": {},
     "output_type": "execute_result"
    }
   ],
   "source": [
    "train_info_lc.check_data_imbalance()"
   ]
  },
  {
   "cell_type": "markdown",
   "id": "8ee02100",
   "metadata": {},
   "source": [
    "Data is highly imbalance so accuracy doesnot works to check the metric. we need to explore other materics."
   ]
  },
  {
   "cell_type": "markdown",
   "id": "bda2e308",
   "metadata": {},
   "source": [
    "# \\> Check How many categorical values are present in the dataset"
   ]
  },
  {
   "cell_type": "code",
   "execution_count": 26,
   "id": "dd108172",
   "metadata": {},
   "outputs": [
    {
     "data": {
      "text/plain": [
       "Index(['protocol_type', 'service', 'flag', 'label'], dtype='object')"
      ]
     },
     "execution_count": 26,
     "metadata": {},
     "output_type": "execute_result"
    }
   ],
   "source": [
    "train_info_lc.get_categorical_data_columns()"
   ]
  },
  {
   "cell_type": "code",
   "execution_count": 27,
   "id": "453263df",
   "metadata": {},
   "outputs": [
    {
     "data": {
      "image/png": "[encoded data removed]",
      "text/plain": [
       "<Figure size 576x396 with 1 Axes>"
      ]
     },
     "metadata": {},
     "output_type": "display_data"
    }
   ],
   "source": [
    "train_viz.bar_graph(train_data, \"label\")"
   ]
  },
  {
   "cell_type": "markdown",
   "id": "2d9e8c05",
   "metadata": {},
   "source": [
    "# Protocol\n",
    "Attribute No. : 2\n",
    "\n",
    "Attribute Name. : Protocol_type\n",
    "\n",
    "Description : Protocol used in the connection\n"
   ]
  },
  {
   "cell_type": "code",
   "execution_count": 28,
   "id": "7e3b1d20",
   "metadata": {},
   "outputs": [
    {
     "data": {
      "image/png": "[encoded data removed]",
      "text/plain": [
       "<Figure size 576x396 with 1 Axes>"
      ]
     },
     "metadata": {},
     "output_type": "display_data"
    }
   ],
   "source": [
    "train_viz.bar_graph(train_data,'protocol_type')"
   ]
  },
  {
   "cell_type": "code",
   "execution_count": 29,
   "id": "6fd07399",
   "metadata": {},
   "outputs": [
    {
     "data": {
      "text/plain": [
       "tcp     102689\n",
       "udp      14993\n",
       "icmp      8291\n",
       "Name: protocol_type, dtype: int64"
      ]
     },
     "execution_count": 29,
     "metadata": {},
     "output_type": "execute_result"
    }
   ],
   "source": [
    "train_data.protocol_type.value_counts()"
   ]
  },
  {
   "cell_type": "markdown",
   "id": "9638a56c",
   "metadata": {},
   "source": [
    "# Flag"
   ]
  },
  {
   "cell_type": "code",
   "execution_count": 30,
   "id": "09f626cf",
   "metadata": {},
   "outputs": [
    {
     "data": {
      "image/png": "[encoded data removed]",
      "text/plain": [
       "<Figure size 576x396 with 1 Axes>"
      ]
     },
     "metadata": {},
     "output_type": "display_data"
    }
   ],
   "source": [
    "train_viz.bar_graph(train_data,'flag')"
   ]
  },
  {
   "cell_type": "markdown",
   "id": "9668505b",
   "metadata": {},
   "source": [
    "\n",
    "# Services\n",
    "Attribute No. : 3\n",
    "\n",
    "Attribute Name. : Service\n",
    "\n",
    "Description : Destination network service used"
   ]
  },
  {
   "cell_type": "code",
   "execution_count": 31,
   "id": "d8c8fb22",
   "metadata": {},
   "outputs": [],
   "source": [
    "services_frequency = train_data['service'].value_counts()\n"
   ]
  },
  {
   "cell_type": "markdown",
   "id": "73e56fc9",
   "metadata": {},
   "source": [
    "# Duration\n",
    "Attribute No. : 1\n",
    "\n",
    "Attribute Name. : Duration\n",
    "\n",
    "Description : Length of time duration of the connection\n",
    "    Duration is the contineous value so we need to make is discreate so that the error while trainnig will me minimized \n",
    "    "
   ]
  },
  {
   "cell_type": "code",
   "execution_count": 32,
   "id": "f2a728df",
   "metadata": {},
   "outputs": [
    {
     "name": "stderr",
     "output_type": "stream",
     "text": [
      "/home/bhupin/akash_vai/venv/lib/python3.8/site-packages/seaborn/distributions.py:2619: FutureWarning: `distplot` is a deprecated function and will be removed in a future version. Please adapt your code to use either `displot` (a figure-level function with similar flexibility) or `histplot` (an axes-level function for histograms).\n",
      "  warnings.warn(msg, FutureWarning)\n"
     ]
    },
    {
     "data": {
      "image/png": "[encoded data removed]",
      "text/plain": [
       "<Figure size 576x396 with 1 Axes>"
      ]
     },
     "metadata": {},
     "output_type": "display_data"
    }
   ],
   "source": [
    "import seaborn as sns\n",
    "import matplotlib.pyplot as plt\n",
    "df = train_data['duration']\n",
    "df = pd.DataFrame(df)\n",
    "data_feature = df.columns\n",
    "\n",
    "for feature in data_feature:\n",
    "    p = sns.distplot(a = df[feature])\n",
    "    plt.show()"
   ]
  },
  {
   "cell_type": "code",
   "execution_count": 33,
   "id": "5fa6ef56",
   "metadata": {},
   "outputs": [
    {
     "data": {
      "text/plain": [
       "0         0\n",
       "1         0\n",
       "2         0\n",
       "3         0\n",
       "4         0\n",
       "         ..\n",
       "125968    0\n",
       "125969    8\n",
       "125970    0\n",
       "125971    0\n",
       "125972    0\n",
       "Name: duration, Length: 125973, dtype: int64"
      ]
     },
     "execution_count": 33,
     "metadata": {},
     "output_type": "execute_result"
    }
   ],
   "source": [
    "train_data['duration']"
   ]
  },
  {
   "cell_type": "code",
   "execution_count": 34,
   "id": "1345264e",
   "metadata": {},
   "outputs": [
    {
     "data": {
      "text/html": [
       "<div>\n",
       "<style scoped>\n",
       "    .dataframe tbody tr th:only-of-type {\n",
       "        vertical-align: middle;\n",
       "    }\n",
       "\n",
       "    .dataframe tbody tr th {\n",
       "        vertical-align: top;\n",
       "    }\n",
       "\n",
       "    .dataframe thead th {\n",
       "        text-align: right;\n",
       "    }\n",
       "</style>\n",
       "<table border=\"1\" class=\"dataframe\">\n",
       "  <thead>\n",
       "    <tr style=\"text-align: right;\">\n",
       "      <th></th>\n",
       "      <th>duration</th>\n",
       "      <th>binned</th>\n",
       "    </tr>\n",
       "  </thead>\n",
       "  <tbody>\n",
       "    <tr>\n",
       "      <th>0</th>\n",
       "      <td>0</td>\n",
       "      <td>(-0.1, 0.0]</td>\n",
       "    </tr>\n",
       "    <tr>\n",
       "      <th>1</th>\n",
       "      <td>0</td>\n",
       "      <td>(-0.1, 0.0]</td>\n",
       "    </tr>\n",
       "    <tr>\n",
       "      <th>2</th>\n",
       "      <td>0</td>\n",
       "      <td>(-0.1, 0.0]</td>\n",
       "    </tr>\n",
       "    <tr>\n",
       "      <th>3</th>\n",
       "      <td>0</td>\n",
       "      <td>(-0.1, 0.0]</td>\n",
       "    </tr>\n",
       "    <tr>\n",
       "      <th>4</th>\n",
       "      <td>0</td>\n",
       "      <td>(-0.1, 0.0]</td>\n",
       "    </tr>\n",
       "  </tbody>\n",
       "</table>\n",
       "</div>"
      ],
      "text/plain": [
       "   duration       binned\n",
       "0         0  (-0.1, 0.0]\n",
       "1         0  (-0.1, 0.0]\n",
       "2         0  (-0.1, 0.0]\n",
       "3         0  (-0.1, 0.0]\n",
       "4         0  (-0.1, 0.0]"
      ]
     },
     "execution_count": 34,
     "metadata": {},
     "output_type": "execute_result"
    }
   ],
   "source": [
    "df['binned']=pd.cut(df['duration'], bins=[-0.1, 0 , 10000, 20000, 30000, 40000])\n",
    "df.head()"
   ]
  },
  {
   "cell_type": "code",
   "execution_count": 35,
   "id": "b4b5a50a",
   "metadata": {},
   "outputs": [
    {
     "data": {
      "text/html": [
       "<div>\n",
       "<style scoped>\n",
       "    .dataframe tbody tr th:only-of-type {\n",
       "        vertical-align: middle;\n",
       "    }\n",
       "\n",
       "    .dataframe tbody tr th {\n",
       "        vertical-align: top;\n",
       "    }\n",
       "\n",
       "    .dataframe thead th {\n",
       "        text-align: right;\n",
       "    }\n",
       "</style>\n",
       "<table border=\"1\" class=\"dataframe\">\n",
       "  <thead>\n",
       "    <tr style=\"text-align: right;\">\n",
       "      <th></th>\n",
       "      <th>duration</th>\n",
       "      <th>binned</th>\n",
       "      <th>duration_bin</th>\n",
       "    </tr>\n",
       "  </thead>\n",
       "  <tbody>\n",
       "    <tr>\n",
       "      <th>0</th>\n",
       "      <td>0</td>\n",
       "      <td>(-0.1, 0.0]</td>\n",
       "      <td>0</td>\n",
       "    </tr>\n",
       "    <tr>\n",
       "      <th>1</th>\n",
       "      <td>0</td>\n",
       "      <td>(-0.1, 0.0]</td>\n",
       "      <td>0</td>\n",
       "    </tr>\n",
       "    <tr>\n",
       "      <th>2</th>\n",
       "      <td>0</td>\n",
       "      <td>(-0.1, 0.0]</td>\n",
       "      <td>0</td>\n",
       "    </tr>\n",
       "    <tr>\n",
       "      <th>3</th>\n",
       "      <td>0</td>\n",
       "      <td>(-0.1, 0.0]</td>\n",
       "      <td>0</td>\n",
       "    </tr>\n",
       "    <tr>\n",
       "      <th>4</th>\n",
       "      <td>0</td>\n",
       "      <td>(-0.1, 0.0]</td>\n",
       "      <td>0</td>\n",
       "    </tr>\n",
       "    <tr>\n",
       "      <th>...</th>\n",
       "      <td>...</td>\n",
       "      <td>...</td>\n",
       "      <td>...</td>\n",
       "    </tr>\n",
       "    <tr>\n",
       "      <th>125968</th>\n",
       "      <td>0</td>\n",
       "      <td>(-0.1, 0.0]</td>\n",
       "      <td>0</td>\n",
       "    </tr>\n",
       "    <tr>\n",
       "      <th>125969</th>\n",
       "      <td>8</td>\n",
       "      <td>(0.0, 10000.0]</td>\n",
       "      <td>(0, 10000]</td>\n",
       "    </tr>\n",
       "    <tr>\n",
       "      <th>125970</th>\n",
       "      <td>0</td>\n",
       "      <td>(-0.1, 0.0]</td>\n",
       "      <td>0</td>\n",
       "    </tr>\n",
       "    <tr>\n",
       "      <th>125971</th>\n",
       "      <td>0</td>\n",
       "      <td>(-0.1, 0.0]</td>\n",
       "      <td>0</td>\n",
       "    </tr>\n",
       "    <tr>\n",
       "      <th>125972</th>\n",
       "      <td>0</td>\n",
       "      <td>(-0.1, 0.0]</td>\n",
       "      <td>0</td>\n",
       "    </tr>\n",
       "  </tbody>\n",
       "</table>\n",
       "<p>125973 rows × 3 columns</p>\n",
       "</div>"
      ],
      "text/plain": [
       "        duration          binned duration_bin\n",
       "0              0     (-0.1, 0.0]            0\n",
       "1              0     (-0.1, 0.0]            0\n",
       "2              0     (-0.1, 0.0]            0\n",
       "3              0     (-0.1, 0.0]            0\n",
       "4              0     (-0.1, 0.0]            0\n",
       "...          ...             ...          ...\n",
       "125968         0     (-0.1, 0.0]            0\n",
       "125969         8  (0.0, 10000.0]   (0, 10000]\n",
       "125970         0     (-0.1, 0.0]            0\n",
       "125971         0     (-0.1, 0.0]            0\n",
       "125972         0     (-0.1, 0.0]            0\n",
       "\n",
       "[125973 rows x 3 columns]"
      ]
     },
     "execution_count": 35,
     "metadata": {},
     "output_type": "execute_result"
    }
   ],
   "source": [
    "df['duration_bin']=pd.cut(df['duration'], bins=[-0.1, 0 , 10000, 20000, 30000, 40000], labels=[\"0\", \" (0, 10000]\", \"(10000, 20000]\",\"(20000, 30000]\", \"(30000, 40000]\"])\n",
    "df"
   ]
  },
  {
   "cell_type": "code",
   "execution_count": 36,
   "id": "c651a9dc",
   "metadata": {},
   "outputs": [
    {
     "data": {
      "text/plain": [
       "0                 115955\n",
       " (0, 10000]         8804\n",
       "(10000, 20000]       585\n",
       "(30000, 40000]       281\n",
       "(20000, 30000]       223\n",
       "Name: duration_bin, dtype: int64"
      ]
     },
     "execution_count": 36,
     "metadata": {},
     "output_type": "execute_result"
    }
   ],
   "source": [
    "duration_frequency = df['duration_bin'].value_counts()\n",
    "#subsetServices= list(duration_frequency[:].index)\n",
    "duration_frequency"
   ]
  },
  {
   "cell_type": "code",
   "execution_count": 37,
   "id": "bf812964",
   "metadata": {},
   "outputs": [
    {
     "data": {
      "text/plain": [
       "<matplotlib.legend.Legend at 0x7f0e1c89cf70>"
      ]
     },
     "execution_count": 37,
     "metadata": {},
     "output_type": "execute_result"
    },
    {
     "data": {
      "image/png": "[encoded data removed]",
      "text/plain": [
       "<Figure size 1080x720 with 1 Axes>"
      ]
     },
     "metadata": {},
     "output_type": "display_data"
    }
   ],
   "source": [
    "f, ax = plt.subplots(figsize=(15,10)) # set the size that you'd like (width, height)\n",
    "plt.bar(duration_frequency.index, duration_frequency, label = 'Duration frequency')\n",
    "ax.legend(fontsize = 20)"
   ]
  },
  {
   "cell_type": "code",
   "execution_count": 38,
   "id": "988b187d",
   "metadata": {},
   "outputs": [],
   "source": [
    "object_type_column = ['protocol_type', 'service', 'flag', 'label']"
   ]
  },
  {
   "cell_type": "code",
   "execution_count": 39,
   "id": "101c4a9e",
   "metadata": {},
   "outputs": [],
   "source": [
    "td_without_categorical = train_data.drop(object_type_column, axis=1)"
   ]
  },
  {
   "cell_type": "code",
   "execution_count": null,
   "id": "c90e6e01",
   "metadata": {},
   "outputs": [],
   "source": [
    "#train_viz.plot_data_distribution(td_without_categorical)"
   ]
  },
  {
   "cell_type": "code",
   "execution_count": 44,
   "id": "997816bf",
   "metadata": {},
   "outputs": [
    {
     "data": {
      "image/png": "[encoded data removed]",
      "text/plain": [
       "<Figure size 720x288 with 1 Axes>"
      ]
     },
     "metadata": {},
     "output_type": "display_data"
    }
   ],
   "source": [
    "train_viz.plot_elbow_graph(td_without_categorical)"
   ]
  },
  {
   "cell_type": "code",
   "execution_count": null,
   "id": "b5ec46a5",
   "metadata": {},
   "outputs": [],
   "source": []
  }
 ],
 "metadata": {
  "kernelspec": {
   "display_name": "Python 3 (ipykernel)",
   "language": "python",
   "name": "python3"
  },
  "language_info": {
   "codemirror_mode": {
    "name": "ipython",
    "version": 3
   },
   "file_extension": ".py",
   "mimetype": "text/x-python",
   "name": "python",
   "nbconvert_exporter": "python",
   "pygments_lexer": "ipython3",
   "version": "3.8.10"
  }
 },
 "nbformat": 4,
 "nbformat_minor": 5
}
